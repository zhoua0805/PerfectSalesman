{
  "nbformat": 4,
  "nbformat_minor": 0,
  "metadata": {
    "colab": {
      "name": "process_data.ipynb",
      "provenance": [],
      "collapsed_sections": []
    },
    "kernelspec": {
      "name": "python3",
      "display_name": "Python 3"
    }
  },
  "cells": [
    {
      "cell_type": "markdown",
      "source": [
        "# Data Processing"
      ],
      "metadata": {
        "id": "Fyyvp6aWgKaP"
      }
    },
    {
      "cell_type": "code",
      "metadata": {
        "id": "p8LdrtTV70dd",
        "outputId": "3627811f-f875-41a7-a7d5-ec476ee7ada7",
        "colab": {
          "base_uri": "https://localhost:8080/"
        }
      },
      "source": [
        "import numpy as np\n",
        "import pandas as pd\n",
        "\n",
        "#1. Load data using panda\n",
        "transactionData = pd.read_excel(\"/content/Sales Report.xls\", sheet_name=\"Orders\")\n",
        "\n",
        "#2. Sanity check\n",
        "print(transactionData.shape)\n",
        "print(transactionData.columns)\n",
        "print(transactionData['Sub-Category'].value_counts())\n",
        "\n",
        "\n",
        "#3. Calculate total transactions per product per day\n",
        "# Note: data is already sorted by date, then by Sub-Category, then by discount\n",
        "headers = ['Order Date', 'Sub-Category','Discount', 'Sales', 'Quantity','Profit']\n",
        "categories = ['Paper', 'Binders', \"Furnishings\", \"Phones\", \"Storage\", \"Art\", \"Accessories\", \n",
        "              \"Chairs\", \"Appliances\", \"Labels\", \"Tables\", \"Envelopes\", \"Bookcases\", \"Fasteners\", \n",
        "              \"Supplies\", \"Machines\", \"Copiers\"]\n",
        "\n",
        "summarizedData = []\n",
        "date = None\n",
        "product = None\n",
        "discount = None\n",
        "categoriesRemaining = []\n",
        "for index, row in transactionData.iterrows():\n",
        "  currentDate = row['Order Date']\n",
        "  currentProduct = row['Sub-Category']\n",
        "  currentDiscount = row['Discount']\n",
        "  if (currentDate == date):\n",
        "    if (currentProduct == product and currentDiscount == discount):\n",
        "      # total sales, quantify and profit\n",
        "      summarizedData[-1][-1] += row['Profit']\n",
        "      summarizedData[-1][-2] += row['Quantity']\n",
        "      summarizedData[-1][-3] += row['Sales']\n",
        "    else: \n",
        "      summarizedData.append(row[headers].values.tolist())\n",
        "      product = row['Sub-Category']\n",
        "      discount = row['Discount']\n",
        "      if currentProduct in categoriesRemaining:\n",
        "        categoriesRemaining.remove(currentProduct)  \n",
        "\n",
        "  else: \n",
        "    # add 0-Sale row to the absent categories on the previous day\n",
        "    for category in categoriesRemaining:\n",
        "      newRow = [date, category, 0, 0, 0, 0]\n",
        "      summarizedData.append(newRow)\n",
        "\n",
        "    # reinitialize product data\n",
        "    date = row['Order Date']\n",
        "    product = row['Sub-Category']\n",
        "    discount = row['Discount']\n",
        "    categoriesRemaining = categories.copy()\n",
        "\n",
        "    # add current row \n",
        "    summarizedData.append(row[headers].values.tolist())\n",
        "    categoriesRemaining.remove(currentProduct) \n",
        "\n",
        "\n",
        "#4. Visualization (TODO)\n",
        "\n",
        "#5. Save csv\n",
        "summarizedData = pd.DataFrame(summarizedData, columns=headers)\n",
        "summarizedData.to_csv('/content/output.csv')\n",
        "\n",
        "#6. Next step: \n",
        "# normalize cts data\n",
        "# one hot encode categorical data\n",
        "# load dataset to numpy\n",
        "\n",
        "\n",
        "      "
      ],
      "execution_count": 31,
      "outputs": [
        {
          "output_type": "stream",
          "name": "stdout",
          "text": [
            "(9994, 21)\n",
            "Index(['Row ID', 'Order ID', 'Order Date', 'Ship Date', 'Ship Mode',\n",
            "       'Customer ID', 'Customer Name', 'Segment', 'Country', 'City', 'State',\n",
            "       'Postal Code', 'Region', 'Product ID', 'Category', 'Sub-Category',\n",
            "       'Product Name', 'Sales', 'Quantity', 'Discount', 'Profit'],\n",
            "      dtype='object')\n",
            "Binders        1523\n",
            "Paper          1370\n",
            "Furnishings     957\n",
            "Phones          889\n",
            "Storage         846\n",
            "Art             796\n",
            "Accessories     775\n",
            "Chairs          617\n",
            "Appliances      466\n",
            "Labels          364\n",
            "Tables          319\n",
            "Envelopes       254\n",
            "Bookcases       228\n",
            "Fasteners       217\n",
            "Supplies        190\n",
            "Machines        115\n",
            "Copiers          68\n",
            "Name: Sub-Category, dtype: int64\n"
          ]
        }
      ]
    }
  ]
}